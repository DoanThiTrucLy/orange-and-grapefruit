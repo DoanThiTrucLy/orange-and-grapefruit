{
  "nbformat": 4,
  "nbformat_minor": 0,
  "metadata": {
    "colab": {
      "provenance": []
    },
    "kernelspec": {
      "name": "python3",
      "display_name": "Python 3"
    },
    "language_info": {
      "name": "python"
    }
  },
  "cells": [
    {
      "cell_type": "code",
      "execution_count": null,
      "metadata": {
        "colab": {
          "base_uri": "https://localhost:8080/"
        },
        "id": "NThhoUpR8tZj",
        "outputId": "bbee9527-03a2-4ae7-9c15-737192e1f28b"
      },
      "outputs": [
        {
          "output_type": "stream",
          "name": "stdout",
          "text": [
            "Mounted at /content/drive/\n",
            "/content/drive/MyDrive/BCMHUD\n"
          ]
        }
      ],
      "source": [
        "import numpy as np\n",
        "import pandas as pd\n",
        "import matplotlib.pyplot as plt\n",
        "import seaborn as sb\n",
        "from sklearn.preprocessing import LabelEncoder\n",
        "from sklearn.model_selection import train_test_split\n",
        "from sklearn.impute import SimpleImputer\n",
        "from sklearn.neighbors import KNeighborsClassifier\n",
        "from sklearn.ensemble import RandomForestClassifier\n",
        "from sklearn.naive_bayes import GaussianNB\n",
        "from sklearn.tree import DecisionTreeClassifier\n",
        "from sklearn.metrics import accuracy_score, precision_score, recall_score, f1_score\n",
        "from sklearn.utils import shuffle\n",
        "from sklearn.preprocessing import MinMaxScaler\n",
        "from google.colab import drive\n",
        "from sklearn.model_selection import KFold\n",
        "drive.mount('/content/drive/')\n",
        "%cd /content/drive/MyDrive/BCMHUD/"
      ]
    },
    {
      "cell_type": "code",
      "source": [
        "# Đọc file CSV\n",
        "dt = pd.read_csv('cambuoi.csv')\n",
        "\n",
        "# Xem thông tin về dữ liệu\n",
        "print(\"Thông tin dữ liệu:\")\n",
        "print(\"OpenML ID43387 - Oranges vs Grapefruit:\")\n",
        "print(dt.info())\n",
        "print()\n",
        "# In dử liệu\n",
        "print(\"Dữ liệu ban dầu:\")\n",
        "print(dt.head())\n",
        "# Xử lý dữ liệu thiếu ()\n",
        "dt = dt.dropna()  # Loại bỏ các mẫu có dữ liệu thiếu\n",
        "# Khởi tạo LabelEncoder\n",
        "label_encoder = LabelEncoder()\n",
        "\n",
        "# Mã hoá cột 'name'\n",
        "dt['name_encoded'] = label_encoder.fit_transform(dt['name'])\n",
        "# Xoá cột 'name' sau khi mã hoá\n",
        "dt = dt.drop('name', axis=1)\n",
        "# In dữ liệu sau khi mã hoá\n",
        "print(\"Dữ liệu sau khi mã hoá cột name:\")\n",
        "print(dt.head())\n",
        "# Số lượng thuộc tính\n",
        "num_attributes = len(dt.columns) - 1  # Trừ đi cột nhãn\n",
        "print(\"Số lượng thuộc tính:\", num_attributes)\n",
        "# Số lượng nhãn\n",
        "label_counts = dt['name_encoded'].value_counts()\n",
        "print(\"Số lượng nhãn:\")\n",
        "print(label_counts)\n",
        "print()"
      ],
      "metadata": {
        "colab": {
          "base_uri": "https://localhost:8080/"
        },
        "id": "8v0u_s-OqgDx",
        "outputId": "fc232e35-ec3d-46bc-ac62-60466121d703"
      },
      "execution_count": null,
      "outputs": [
        {
          "output_type": "stream",
          "name": "stdout",
          "text": [
            "Thông tin dữ liệu:\n",
            "OpenML ID43387 - Oranges vs Grapefruit:\n",
            "<class 'pandas.core.frame.DataFrame'>\n",
            "RangeIndex: 10000 entries, 0 to 9999\n",
            "Data columns (total 6 columns):\n",
            " #   Column    Non-Null Count  Dtype  \n",
            "---  ------    --------------  -----  \n",
            " 0   name      10000 non-null  object \n",
            " 1   diameter  10000 non-null  float64\n",
            " 2   weight    10000 non-null  float64\n",
            " 3   red       10000 non-null  int64  \n",
            " 4   green     10000 non-null  int64  \n",
            " 5   blue      10000 non-null  int64  \n",
            "dtypes: float64(2), int64(3), object(1)\n",
            "memory usage: 468.9+ KB\n",
            "None\n",
            "\n",
            "Dữ liệu ban dầu:\n",
            "     name  diameter  weight  red  green  blue\n",
            "0  orange      2.96   86.76  172     85     2\n",
            "1  orange      3.91   88.05  166     78     3\n",
            "2  orange      4.42   95.17  156     81     2\n",
            "3  orange      4.47   95.60  163     81     4\n",
            "4  orange      4.48   95.76  161     72     9\n",
            "Dữ liệu sau khi mã hoá cột name:\n",
            "   diameter  weight  red  green  blue  name_encoded\n",
            "0      2.96   86.76  172     85     2             1\n",
            "1      3.91   88.05  166     78     3             1\n",
            "2      4.42   95.17  156     81     2             1\n",
            "3      4.47   95.60  163     81     4             1\n",
            "4      4.48   95.76  161     72     9             1\n",
            "Số lượng thuộc tính: 5\n",
            "Số lượng nhãn:\n",
            "1    5000\n",
            "0    5000\n",
            "Name: name_encoded, dtype: int64\n",
            "\n"
          ]
        }
      ]
    },
    {
      "cell_type": "code",
      "source": [
        "# Tách dữ liệu thành tập huấn luyện và tập kiểm tra\n",
        "X = dt.drop(['name_encoded'], axis=1)  # Xóa cột nhãn\n",
        "y = dt['name_encoded']  # Nhãn phân loại"
      ],
      "metadata": {
        "id": "rZWuUDfVS11A"
      },
      "execution_count": null,
      "outputs": []
    },
    {
      "cell_type": "code",
      "source": [
        "# Khởi tạo các list chứa kết quả\n",
        "accuracy_list = []\n",
        "precision_list = []\n",
        "recall_list = []\n",
        "f1_list = []"
      ],
      "metadata": {
        "id": "gKDX-dD2T42I"
      },
      "execution_count": null,
      "outputs": []
    },
    {
      "cell_type": "code",
      "source": [
        "#Dùng nghi thức hold-out chia dữ liệu thành 2 tập train(8) và test(2)\n",
        "\n",
        "from sklearn.metrics import classification_report\n",
        "# Tạo danh sách các tên giải thuật\n",
        "algorithm_names = ['KNN', 'Random Forest', 'Naive Bayes', 'Decision Tree']\n",
        "# Định nghĩa các giải thuật\n",
        "knn = KNeighborsClassifier()\n",
        "rf = RandomForestClassifier()\n",
        "nb = GaussianNB()\n",
        "dt = DecisionTreeClassifier()\n",
        "# Khởi tạo các list chứa kết quả\n",
        "accuracy_scores = []\n",
        "# Tạo danh sách các tên giải thuật\n",
        "algorithm_names = ['KNN', 'Random Forest', 'Naive Bayes', 'Decision Tree']\n",
        "\n",
        "# Định nghĩa các giải thuật\n",
        "knn = KNeighborsClassifier()\n",
        "rf = RandomForestClassifier()\n",
        "nb = GaussianNB()\n",
        "dt = DecisionTreeClassifier()\n",
        "\n",
        "# Xáo trộn dữ liệu\n",
        "X_shuffled, y_shuffled = shuffle(X, y)\n",
        "# Khởi tạo list để lưu trữ kết quả của các chỉ số\n",
        "accuracy_scores = []\n",
        "f1_scores = []\n",
        "recall_scores = []\n",
        "precision_scores = []\n",
        "\n",
        "# Lặp qua các giải thuật và tính toán các chỉ số\n",
        "algorithms = [knn, rf, nb, dt]\n",
        "for algorithm in algorithms:\n",
        "    # Xáo trộn dữ liệu\n",
        "    X_shuffled, y_shuffled = shuffle(X, y)\n",
        "\n",
        "    # Chia dữ liệu thành tập huấn luyện và tập kiểm tra\n",
        "    X_train, X_test, y_train, y_test = train_test_split(X_shuffled, y_shuffled, test_size=0.2, random_state=42)\n",
        "    # Huấn luyện mô hình trên tập huấn luyện\n",
        "    algorithm.fit(X_train, y_train)\n",
        "\n",
        "    # Dự đoán nhãn cho tập kiểm tra\n",
        "    y_pred = algorithm.predict(X_test)\n",
        "\n",
        "    # Tính toán các chỉ số\n",
        "    accuracy = accuracy_score(y_test, y_pred)\n",
        "    report = classification_report(y_test, y_pred, zero_division=1, output_dict=True)#output_dict = True (đầu ra là một danh sách chứa các chỉ số đánh giá)\n",
        "\n",
        "    # Trích xuất F1-score, recall và precision cho từng giải thuật\n",
        "    f1_score = report['macro avg']['f1-score']\n",
        "    recall = report['macro avg']['recall']\n",
        "    precision = report['macro avg']['precision']\n",
        "\n",
        "    # Lưu kết quả vào list\n",
        "    accuracy_scores.append(accuracy)\n",
        "    f1_scores.append(f1_score)\n",
        "    recall_scores.append(recall)\n",
        "    precision_scores.append(precision)\n",
        "\n",
        "    # In kết quả\n",
        "    print(f\"Giải thuật: {algorithm}\")\n",
        "    print(f\"Accuracy: {accuracy}\")\n",
        "    print(f\"F1-score: {f1_score}\")\n",
        "    print(f\"Recall: {recall}\")\n",
        "    print(f\"Precision: {precision}\")\n",
        "    print(\"--------------------\")"
      ],
      "metadata": {
        "colab": {
          "base_uri": "https://localhost:8080/"
        },
        "id": "Cjjh4JPCHccY",
        "outputId": "0af33ede-3e6e-4f28-8c74-2832e38ea2bc"
      },
      "execution_count": null,
      "outputs": [
        {
          "output_type": "stream",
          "name": "stdout",
          "text": [
            "Giải thuật: KNeighborsClassifier()\n",
            "Accuracy: 0.91\n",
            "F1-score: 0.9099847874290756\n",
            "Recall: 0.9099847874290755\n",
            "Precision: 0.9099847874290755\n",
            "--------------------\n",
            "Giải thuật: RandomForestClassifier()\n",
            "Accuracy: 0.9565\n",
            "F1-score: 0.9564975529873556\n",
            "Recall: 0.956599373369295\n",
            "Precision: 0.9567980902756934\n",
            "--------------------\n",
            "Giải thuật: GaussianNB()\n",
            "Accuracy: 0.917\n",
            "F1-score: 0.9169946876600104\n",
            "Recall: 0.9169850114604126\n",
            "Precision: 0.9170117011701171\n",
            "--------------------\n",
            "Giải thuật: DecisionTreeClassifier()\n",
            "Accuracy: 0.9345\n",
            "F1-score: 0.9344998526246684\n",
            "Recall: 0.9345129106161956\n",
            "Precision: 0.9345246428871439\n",
            "--------------------\n"
          ]
        }
      ]
    },
    {
      "cell_type": "code",
      "source": [
        "#K-FOLD thích hợp với tập dử liệu Oranges vs Grapefruit do đây là một tập dử liệu lớn\n",
        "# K-fold cross-validation chia tập dữ liệu thành k phần bằng nhau (gọi là folds),\n",
        "# mỗi lần chọn một fold làm tập kiểm tra và các fold còn lại là tập huấn luyện.\n",
        "# Quá trình này được lặp lại k lần, mỗi lần chọn một fold khác nhau làm tập kiểm tra.\n",
        "\n",
        "from sklearn.metrics import accuracy_score, precision_score, recall_score, f1_score\n",
        "from sklearn.model_selection import cross_val_predict\n",
        "\n",
        "# Khởi tạo các list chứa kết quả\n",
        "accuracy_scores = []\n",
        "recall_scores = []\n",
        "precision_scores = []\n",
        "f1_scores = []\n",
        "\n",
        "# Tạo danh sách các tên giải thuật\n",
        "algorithm_names = ['KNN', 'Random Forest', 'Naive Bayes', 'Decision Tree']\n",
        "\n",
        "kf = KFold(n_splits=10, shuffle=True)\n",
        "\n",
        "# Lặp qua các giải thuật và tính toán các chỉ số\n",
        "algorithms = [knn, rf, nb, dt]\n",
        "for algorithm, algorithm_name in zip(algorithms, algorithm_names):\n",
        "    # Thực hiện k-fold cross-validation với KFold object đã tạo\n",
        "    y_pred = cross_val_predict(algorithm, X, y,cv=kf)\n",
        "\n",
        "    # Tính toán các chỉ số accuracy, recall, precision và F1-score\n",
        "    accuracy = accuracy_score(y, y_pred)\n",
        "    recall = recall_score(y, y_pred, average='macro')\n",
        "    precision = precision_score(y, y_pred, average='macro')\n",
        "    f1 = f1_score(y, y_pred, average='macro')\n",
        "\n",
        "    # Lưu kết quả vào list\n",
        "    accuracy_scores.append(accuracy)\n",
        "    recall_scores.append(recall)\n",
        "    precision_scores.append(precision)\n",
        "    f1_scores.append(f1)\n",
        "\n",
        "# In kết quả các độ đo đánh giá\n",
        "for algorithm_name, accuracy, recall, precision, f1 in zip(algorithm_names, accuracy_scores, recall_scores, precision_scores, f1_scores):\n",
        "    print(f\"Giải thuật: {algorithm_name}\")\n",
        "    print(f\"Accuracy: {accuracy}\")\n",
        "    print(f\"Recall: {recall}\")\n",
        "    print(f\"Precision: {precision}\")\n",
        "    print(f\"F1-score: {f1}\")\n",
        "    print(\"--------------------\")"
      ],
      "metadata": {
        "colab": {
          "base_uri": "https://localhost:8080/"
        },
        "id": "c1t1jYgkLw-F",
        "outputId": "7b0d3257-edfb-4b05-88ac-e8025ec5d5e8"
      },
      "execution_count": null,
      "outputs": [
        {
          "output_type": "stream",
          "name": "stdout",
          "text": [
            "Giải thuật: KNN\n",
            "Accuracy: 0.9162\n",
            "Recall: 0.9161999999999999\n",
            "Precision: 0.9162042619316422\n",
            "F1-score: 0.9161997854714508\n",
            "--------------------\n",
            "Giải thuật: Random Forest\n",
            "Accuracy: 0.9565\n",
            "Recall: 0.9565\n",
            "Precision: 0.9565920672244351\n",
            "F1-score: 0.9564978070544536\n",
            "--------------------\n",
            "Giải thuật: Naive Bayes\n",
            "Accuracy: 0.9212\n",
            "Recall: 0.9212\n",
            "Precision: 0.9212024261259745\n",
            "F1-score: 0.9211998865278367\n",
            "--------------------\n",
            "Giải thuật: Decision Tree\n",
            "Accuracy: 0.9419\n",
            "Recall: 0.9419\n",
            "Precision: 0.9419077952535082\n",
            "F1-score: 0.94189974377787\n",
            "--------------------\n"
          ]
        }
      ]
    },
    {
      "cell_type": "code",
      "source": [
        "from sklearn.ensemble import RandomForestClassifier\n",
        "\n",
        "# Khởi tạo mô hình RandomForestClassifier\n",
        "rf_model = RandomForestClassifier()\n",
        "\n",
        "# Huấn luyện mô hình trên toàn bộ dữ liệu\n",
        "rf_model.fit(X, y)\n",
        "\n",
        "#(2.96\t86.76\t172\t85\t2) thuộc tính của cam sẳn có\n",
        "X1 = [[3.31, 87.52, 168, 79, 5],]\n",
        "\n",
        "#(11.28\t194.83\t153\t67\t12) thuộc tính bưởi sẳn có\n",
        "X = [[15, 199.25, 130, 80, 10]] #Tạo một phần tử X tương tự\n",
        "\n",
        "# Dự đoán nhãn Y cho phần tử X mới\n",
        "predicted_label = rf_model.predict(X)\n",
        "\n",
        "# In kết quả dự đoán\n",
        "for label in predicted_label:\n",
        "    if label == 0:\n",
        "        print(\"Dự đoán: Bưởi\")\n",
        "    else:\n",
        "        print(\"Dự đoán: Cam\")"
      ],
      "metadata": {
        "colab": {
          "base_uri": "https://localhost:8080/"
        },
        "id": "aKK-6d29-d9q",
        "outputId": "496d3cc3-db22-43bf-9d9e-24cde6b6ba90"
      },
      "execution_count": null,
      "outputs": [
        {
          "output_type": "stream",
          "name": "stdout",
          "text": [
            "Dự đoán: Bưởi\n"
          ]
        },
        {
          "output_type": "stream",
          "name": "stderr",
          "text": [
            "/usr/local/lib/python3.10/dist-packages/sklearn/base.py:439: UserWarning: X does not have valid feature names, but RandomForestClassifier was fitted with feature names\n",
            "  warnings.warn(\n"
          ]
        }
      ]
    },
    {
      "cell_type": "code",
      "source": [
        "from sklearn.model_selection import cross_val_score, KFold\n",
        "import numpy as np\n",
        "\n",
        "# Tạo đối tượng KFold với shuffle=True\n",
        "kf = KFold(n_splits=10, shuffle=True)\n",
        "\n",
        "# Khởi tạo các list chứa kết quả\n",
        "accuracy_scores = []\n",
        "other_scores = []\n",
        "\n",
        "# Lặp qua các giải thuật và tính toán các chỉ số\n",
        "algorithms = [knn, rf, nb, dt]\n",
        "for algorithm, algorithm_name in zip(algorithms, algorithm_names):\n",
        "    # Thực hiện k-fold cross-validation với KFold object đã tạo\n",
        "    scores = cross_val_score(algorithm, X, y, cv=kf)\n",
        "\n",
        "    # Lưu kết quả vào list\n",
        "    accuracy_scores.append(scores.mean())\n",
        "    other_scores.append(scores)\n",
        "\n",
        "# In kết quả trung bình của các độ đo đánh giá\n",
        "for algorithm_name, accuracy, other in zip(algorithm_names, accuracy_scores, other_scores):\n",
        "    print(f\"Giải thuật: {algorithm_name}\")\n",
        "    print(f\"Accuracy: {accuracy}\")\n",
        "    print(\"Các chỉ số khác:\")\n",
        "    for i, score in enumerate(other):\n",
        "        print(f\"Acc {i+1}: {score}\")\n",
        "    print(\"--------------------\")"
      ],
      "metadata": {
        "colab": {
          "base_uri": "https://localhost:8080/",
          "height": 390
        },
        "id": "GOit5Msgb77q",
        "outputId": "d30d4a7a-5616-45aa-b024-4bfa23524304"
      },
      "execution_count": null,
      "outputs": [
        {
          "output_type": "error",
          "ename": "ValueError",
          "evalue": "ignored",
          "traceback": [
            "\u001b[0;31m---------------------------------------------------------------------------\u001b[0m",
            "\u001b[0;31mValueError\u001b[0m                                Traceback (most recent call last)",
            "\u001b[0;32m<ipython-input-8-62db087188e0>\u001b[0m in \u001b[0;36m<cell line: 13>\u001b[0;34m()\u001b[0m\n\u001b[1;32m     13\u001b[0m \u001b[0;32mfor\u001b[0m \u001b[0malgorithm\u001b[0m\u001b[0;34m,\u001b[0m \u001b[0malgorithm_name\u001b[0m \u001b[0;32min\u001b[0m \u001b[0mzip\u001b[0m\u001b[0;34m(\u001b[0m\u001b[0malgorithms\u001b[0m\u001b[0;34m,\u001b[0m \u001b[0malgorithm_names\u001b[0m\u001b[0;34m)\u001b[0m\u001b[0;34m:\u001b[0m\u001b[0;34m\u001b[0m\u001b[0;34m\u001b[0m\u001b[0m\n\u001b[1;32m     14\u001b[0m     \u001b[0;31m# Thực hiện k-fold cross-validation với KFold object đã tạo\u001b[0m\u001b[0;34m\u001b[0m\u001b[0;34m\u001b[0m\u001b[0m\n\u001b[0;32m---> 15\u001b[0;31m     \u001b[0mscores\u001b[0m \u001b[0;34m=\u001b[0m \u001b[0mcross_val_score\u001b[0m\u001b[0;34m(\u001b[0m\u001b[0malgorithm\u001b[0m\u001b[0;34m,\u001b[0m \u001b[0mX\u001b[0m\u001b[0;34m,\u001b[0m \u001b[0my\u001b[0m\u001b[0;34m,\u001b[0m \u001b[0mcv\u001b[0m\u001b[0;34m=\u001b[0m\u001b[0mkf\u001b[0m\u001b[0;34m)\u001b[0m\u001b[0;34m\u001b[0m\u001b[0;34m\u001b[0m\u001b[0m\n\u001b[0m\u001b[1;32m     16\u001b[0m \u001b[0;34m\u001b[0m\u001b[0m\n\u001b[1;32m     17\u001b[0m     \u001b[0;31m# Lưu kết quả vào list\u001b[0m\u001b[0;34m\u001b[0m\u001b[0;34m\u001b[0m\u001b[0m\n",
            "\u001b[0;32m/usr/local/lib/python3.10/dist-packages/sklearn/model_selection/_validation.py\u001b[0m in \u001b[0;36mcross_val_score\u001b[0;34m(estimator, X, y, groups, scoring, cv, n_jobs, verbose, fit_params, pre_dispatch, error_score)\u001b[0m\n\u001b[1;32m    513\u001b[0m     \u001b[0mscorer\u001b[0m \u001b[0;34m=\u001b[0m \u001b[0mcheck_scoring\u001b[0m\u001b[0;34m(\u001b[0m\u001b[0mestimator\u001b[0m\u001b[0;34m,\u001b[0m \u001b[0mscoring\u001b[0m\u001b[0;34m=\u001b[0m\u001b[0mscoring\u001b[0m\u001b[0;34m)\u001b[0m\u001b[0;34m\u001b[0m\u001b[0;34m\u001b[0m\u001b[0m\n\u001b[1;32m    514\u001b[0m \u001b[0;34m\u001b[0m\u001b[0m\n\u001b[0;32m--> 515\u001b[0;31m     cv_results = cross_validate(\n\u001b[0m\u001b[1;32m    516\u001b[0m         \u001b[0mestimator\u001b[0m\u001b[0;34m=\u001b[0m\u001b[0mestimator\u001b[0m\u001b[0;34m,\u001b[0m\u001b[0;34m\u001b[0m\u001b[0;34m\u001b[0m\u001b[0m\n\u001b[1;32m    517\u001b[0m         \u001b[0mX\u001b[0m\u001b[0;34m=\u001b[0m\u001b[0mX\u001b[0m\u001b[0;34m,\u001b[0m\u001b[0;34m\u001b[0m\u001b[0;34m\u001b[0m\u001b[0m\n",
            "\u001b[0;32m/usr/local/lib/python3.10/dist-packages/sklearn/model_selection/_validation.py\u001b[0m in \u001b[0;36mcross_validate\u001b[0;34m(estimator, X, y, groups, scoring, cv, n_jobs, verbose, fit_params, pre_dispatch, return_train_score, return_estimator, error_score)\u001b[0m\n\u001b[1;32m    250\u001b[0m     \u001b[0;34m[\u001b[0m\u001b[0;36m0.28009951\u001b[0m \u001b[0;36m0.3908844\u001b[0m  \u001b[0;36m0.22784907\u001b[0m\u001b[0;34m]\u001b[0m\u001b[0;34m\u001b[0m\u001b[0;34m\u001b[0m\u001b[0m\n\u001b[1;32m    251\u001b[0m     \"\"\"\n\u001b[0;32m--> 252\u001b[0;31m     \u001b[0mX\u001b[0m\u001b[0;34m,\u001b[0m \u001b[0my\u001b[0m\u001b[0;34m,\u001b[0m \u001b[0mgroups\u001b[0m \u001b[0;34m=\u001b[0m \u001b[0mindexable\u001b[0m\u001b[0;34m(\u001b[0m\u001b[0mX\u001b[0m\u001b[0;34m,\u001b[0m \u001b[0my\u001b[0m\u001b[0;34m,\u001b[0m \u001b[0mgroups\u001b[0m\u001b[0;34m)\u001b[0m\u001b[0;34m\u001b[0m\u001b[0;34m\u001b[0m\u001b[0m\n\u001b[0m\u001b[1;32m    253\u001b[0m \u001b[0;34m\u001b[0m\u001b[0m\n\u001b[1;32m    254\u001b[0m     \u001b[0mcv\u001b[0m \u001b[0;34m=\u001b[0m \u001b[0mcheck_cv\u001b[0m\u001b[0;34m(\u001b[0m\u001b[0mcv\u001b[0m\u001b[0;34m,\u001b[0m \u001b[0my\u001b[0m\u001b[0;34m,\u001b[0m \u001b[0mclassifier\u001b[0m\u001b[0;34m=\u001b[0m\u001b[0mis_classifier\u001b[0m\u001b[0;34m(\u001b[0m\u001b[0mestimator\u001b[0m\u001b[0;34m)\u001b[0m\u001b[0;34m)\u001b[0m\u001b[0;34m\u001b[0m\u001b[0;34m\u001b[0m\u001b[0m\n",
            "\u001b[0;32m/usr/local/lib/python3.10/dist-packages/sklearn/utils/validation.py\u001b[0m in \u001b[0;36mindexable\u001b[0;34m(*iterables)\u001b[0m\n\u001b[1;32m    441\u001b[0m \u001b[0;34m\u001b[0m\u001b[0m\n\u001b[1;32m    442\u001b[0m     \u001b[0mresult\u001b[0m \u001b[0;34m=\u001b[0m \u001b[0;34m[\u001b[0m\u001b[0m_make_indexable\u001b[0m\u001b[0;34m(\u001b[0m\u001b[0mX\u001b[0m\u001b[0;34m)\u001b[0m \u001b[0;32mfor\u001b[0m \u001b[0mX\u001b[0m \u001b[0;32min\u001b[0m \u001b[0miterables\u001b[0m\u001b[0;34m]\u001b[0m\u001b[0;34m\u001b[0m\u001b[0;34m\u001b[0m\u001b[0m\n\u001b[0;32m--> 443\u001b[0;31m     \u001b[0mcheck_consistent_length\u001b[0m\u001b[0;34m(\u001b[0m\u001b[0;34m*\u001b[0m\u001b[0mresult\u001b[0m\u001b[0;34m)\u001b[0m\u001b[0;34m\u001b[0m\u001b[0;34m\u001b[0m\u001b[0m\n\u001b[0m\u001b[1;32m    444\u001b[0m     \u001b[0;32mreturn\u001b[0m \u001b[0mresult\u001b[0m\u001b[0;34m\u001b[0m\u001b[0;34m\u001b[0m\u001b[0m\n\u001b[1;32m    445\u001b[0m \u001b[0;34m\u001b[0m\u001b[0m\n",
            "\u001b[0;32m/usr/local/lib/python3.10/dist-packages/sklearn/utils/validation.py\u001b[0m in \u001b[0;36mcheck_consistent_length\u001b[0;34m(*arrays)\u001b[0m\n\u001b[1;32m    395\u001b[0m     \u001b[0muniques\u001b[0m \u001b[0;34m=\u001b[0m \u001b[0mnp\u001b[0m\u001b[0;34m.\u001b[0m\u001b[0munique\u001b[0m\u001b[0;34m(\u001b[0m\u001b[0mlengths\u001b[0m\u001b[0;34m)\u001b[0m\u001b[0;34m\u001b[0m\u001b[0;34m\u001b[0m\u001b[0m\n\u001b[1;32m    396\u001b[0m     \u001b[0;32mif\u001b[0m \u001b[0mlen\u001b[0m\u001b[0;34m(\u001b[0m\u001b[0muniques\u001b[0m\u001b[0;34m)\u001b[0m \u001b[0;34m>\u001b[0m \u001b[0;36m1\u001b[0m\u001b[0;34m:\u001b[0m\u001b[0;34m\u001b[0m\u001b[0;34m\u001b[0m\u001b[0m\n\u001b[0;32m--> 397\u001b[0;31m         raise ValueError(\n\u001b[0m\u001b[1;32m    398\u001b[0m             \u001b[0;34m\"Found input variables with inconsistent numbers of samples: %r\"\u001b[0m\u001b[0;34m\u001b[0m\u001b[0;34m\u001b[0m\u001b[0m\n\u001b[1;32m    399\u001b[0m             \u001b[0;34m%\u001b[0m \u001b[0;34m[\u001b[0m\u001b[0mint\u001b[0m\u001b[0;34m(\u001b[0m\u001b[0ml\u001b[0m\u001b[0;34m)\u001b[0m \u001b[0;32mfor\u001b[0m \u001b[0ml\u001b[0m \u001b[0;32min\u001b[0m \u001b[0mlengths\u001b[0m\u001b[0;34m]\u001b[0m\u001b[0;34m\u001b[0m\u001b[0;34m\u001b[0m\u001b[0m\n",
            "\u001b[0;31mValueError\u001b[0m: Found input variables with inconsistent numbers of samples: [1, 10000]"
          ]
        }
      ]
    },
    {
      "cell_type": "code",
      "source": [
        "import matplotlib.pyplot as plt\n",
        "\n",
        "# Tạo một hình vẽ mới với kích thước lớn\n",
        "plt.figure(figsize=(10, 6))\n",
        "\n",
        "# Tạo một list chứa số lượt cross-validation (1 đến 10)\n",
        "cv_splits = np.arange(1, 11)\n",
        "\n",
        "# Vẽ biểu đồ so sánh từ score 1 đến score 10 của các giải thuật\n",
        "for algorithm_name, other in zip(algorithm_names, other_scores):\n",
        "    plt.plot(cv_splits, other, label=algorithm_name)\n",
        "    # Hiển thị chỉ số trên mỗi đường thẳng\n",
        "    for i, score in enumerate(other):\n",
        "        plt.text(cv_splits[i], score, f\"{score:.2f}\", ha='center', va='bottom')\n",
        "\n",
        "# Đặt các thông tin trên đồ thị\n",
        "plt.xlabel(\"Biểu đồ đánh giá\")\n",
        "plt.ylabel(\"Giá trị\")\n",
        "plt.title(\"So sánh các giá trị ACC của các giải thuật\")\n",
        "plt.legend()\n",
        "\n",
        "# Hiển thị đồ thị\n",
        "plt.show()"
      ],
      "metadata": {
        "colab": {
          "base_uri": "https://localhost:8080/",
          "height": 584
        },
        "id": "bpV2Cu_7dQtZ",
        "outputId": "478a5c00-f4a1-4eca-afbf-c14a995b502b"
      },
      "execution_count": null,
      "outputs": [
        {
          "output_type": "stream",
          "name": "stderr",
          "text": [
            "WARNING:matplotlib.legend:No artists with labels found to put in legend.  Note that artists whose label start with an underscore are ignored when legend() is called with no argument.\n"
          ]
        },
        {
          "output_type": "display_data",
          "data": {
            "text/plain": [
              "<Figure size 1000x600 with 1 Axes>"
            ],
            "image/png": "[encoded data removed]"
          },
          "metadata": {}
        }
      ]
    }
  ]
}